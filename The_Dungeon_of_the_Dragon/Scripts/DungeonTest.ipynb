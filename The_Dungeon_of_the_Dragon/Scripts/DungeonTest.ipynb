{
 "cells": [
  {
   "cell_type": "code",
   "execution_count": 164,
   "metadata": {
    "ExecuteTime": {
     "end_time": "2024-03-07T04:18:42.399701629Z",
     "start_time": "2024-03-07T04:18:42.384048698Z"
    }
   },
   "outputs": [
    {
     "name": "stdout",
     "output_type": "stream",
     "text": [
      "The autoreload extension is already loaded. To reload it, use:\n",
      "  %reload_ext autoreload\n"
     ]
    }
   ],
   "source": [
    "import numpy as np\n",
    "import ruleTools\n",
    "import objectsDnD \n",
    "from fractions import Fraction\n",
    "import Reading\n",
    "import objectHelperTools as oHT\n",
    "import charManagers\n",
    "\n",
    "import re\n",
    "\n",
    "%load_ext autoreload\n",
    "%autoreload 2"
   ]
  },
  {
   "cell_type": "code",
   "execution_count": 13,
   "outputs": [
    {
     "ename": "NameError",
     "evalue": "name 'dT' is not defined",
     "output_type": "error",
     "traceback": [
      "\u001B[0;31m---------------------------------------------------------------------------\u001B[0m",
      "\u001B[0;31mNameError\u001B[0m                                 Traceback (most recent call last)",
      "Cell \u001B[0;32mIn[13], line 1\u001B[0m\n\u001B[0;32m----> 1\u001B[0m testStat \u001B[38;5;241m=\u001B[39m dT\u001B[38;5;241m.\u001B[39mStat(\u001B[38;5;124m'\u001B[39m\u001B[38;5;124mStrength\u001B[39m\u001B[38;5;124m'\u001B[39m)\n\u001B[1;32m      2\u001B[0m testStat\u001B[38;5;241m.\u001B[39malter_contrib_base(\u001B[38;5;124m\"\u001B[39m\u001B[38;5;124mbase\u001B[39m\u001B[38;5;124m\"\u001B[39m, \u001B[38;5;241m13\u001B[39m)\n\u001B[1;32m      3\u001B[0m testStat\u001B[38;5;241m.\u001B[39malter_contrib_base(\u001B[38;5;124m'\u001B[39m\u001B[38;5;124mteifling race\u001B[39m\u001B[38;5;124m'\u001B[39m, \u001B[38;5;241m4\u001B[39m)\n",
      "\u001B[0;31mNameError\u001B[0m: name 'dT' is not defined"
     ]
    }
   ],
   "source": [
    "testStat = DT.Stat('Strength')\n",
    "testStat.alter_contrib_base(\"base\", 13)\n",
    "testStat.alter_contrib_base('teifling race', 4)\n",
    "testStat.alter_contrib_base(\"mockery\", -2)\n",
    "testStat.alter_contrib_bonus(\"guidance\", -4)\n",
    "print(testStat)\n",
    "# testStat.remove(\"mockery\")\n",
    "# print(testStat)"
   ],
   "metadata": {
    "collapsed": false,
    "ExecuteTime": {
     "end_time": "2024-03-05T01:54:04.261666733Z",
     "start_time": "2024-03-05T01:54:04.247597077Z"
    }
   }
  },
  {
   "cell_type": "code",
   "execution_count": 170,
   "outputs": [
    {
     "name": "stdout",
     "output_type": "stream",
     "text": [
      "Strength\n",
      " Base: 15\n",
      " Modifer: -2\n",
      "Strength\n",
      " Base: 15\n",
      " Modifer: 2\n"
     ]
    }
   ],
   "source": [
    "print(testStat.get_type() + '\\n Base: ' + str(testStat.get_total_base()) + '\\n Modifer: ' + str(testStat.get_total_bonus()))\n",
    "testStat.remove_bonus(\"guidance\")\n",
    "print(testStat.get_type() + '\\n Base: ' + str(testStat.get_total_base()) + '\\n Modifer: ' + str(testStat.get_total_bonus()))"
   ],
   "metadata": {
    "collapsed": false,
    "ExecuteTime": {
     "end_time": "2024-01-29T23:23:12.322261335Z",
     "start_time": "2024-01-29T23:23:12.299248406Z"
    }
   }
  },
  {
   "cell_type": "code",
   "execution_count": 113,
   "outputs": [
    {
     "name": "stdout",
     "output_type": "stream",
     "text": [
      "Strength Stat Bonus:\n",
      "____________________________________________________________\n",
      "____________________________________________________________\n",
      "nat_stat: +3\n",
      "proficiency: +2\n",
      "Total Bonus: +5\n",
      "____________________________________________________________\n",
      "\n",
      "Strength Stat Bonus:\n",
      "____________________________________________________________\n",
      "____________________________________________________________\n",
      "nat_stat: +3\n",
      "Total Bonus: +3\n",
      "____________________________________________________________\n"
     ]
    }
   ],
   "source": [
    "testBonus = DT.StatBonus(testStat)\n",
    "testBonus.add('proficiency', 2)\n",
    "print(testBonus)\n",
    "testBonus.remove('proficiency')\n",
    "print(testBonus)\n"
   ],
   "metadata": {
    "collapsed": false,
    "ExecuteTime": {
     "end_time": "2024-01-27T22:48:14.793734551Z",
     "start_time": "2024-01-27T22:48:14.607382793Z"
    }
   }
  },
  {
   "cell_type": "code",
   "execution_count": 14,
   "outputs": [
    {
     "name": "stdout",
     "output_type": "stream",
     "text": [
      "Expr Points: 3000\n",
      "Expr Points: -2000\n"
     ]
    }
   ],
   "source": [
    "test = DT.RPValue('Expr Points', True)\n",
    "test.add(3000)\n",
    "print(test)\n",
    "test.subtract(5000)\n",
    "print(test)"
   ],
   "metadata": {
    "collapsed": false,
    "ExecuteTime": {
     "end_time": "2024-02-06T18:57:05.193046183Z",
     "start_time": "2024-02-06T18:57:05.151857404Z"
    }
   }
  },
  {
   "cell_type": "code",
   "execution_count": 14,
   "outputs": [
    {
     "name": "stdout",
     "output_type": "stream",
     "text": [
      "0\n",
      "2\n",
      "1\n"
     ]
    }
   ],
   "source": [
    "t = DT.HitDice()\n",
    "print(t.get_total_hd())\n",
    "t.set_d_type(4)\n",
    "t.set_total_hd(2)\n",
    "t.add_hd(2)\n",
    "print(t.get_current_hd())\n",
    "t.subtract_hd()\n",
    "print(t.get_current_hd())"
   ],
   "metadata": {
    "collapsed": false,
    "ExecuteTime": {
     "end_time": "2024-02-12T23:09:46.102439689Z",
     "start_time": "2024-02-12T23:09:46.084220244Z"
    }
   }
  },
  {
   "cell_type": "code",
   "execution_count": 18,
   "outputs": [
    {
     "data": {
      "text/plain": "2"
     },
     "execution_count": 18,
     "metadata": {},
     "output_type": "execute_result"
    }
   ],
   "source": [
    "ones = np.array([1,1,1])\n",
    "false = [False, True, True]\n",
    "ones[false].sum()"
   ],
   "metadata": {
    "collapsed": false,
    "ExecuteTime": {
     "end_time": "2024-02-13T01:27:32.229375122Z",
     "start_time": "2024-02-13T01:27:32.182748258Z"
    }
   }
  },
  {
   "cell_type": "code",
   "execution_count": 187,
   "outputs": [
    {
     "data": {
      "text/plain": "[<objectsDnD.Weapon at 0x7f6c212b1810>,\n <objectsDnD.Weapon at 0x7f6c212b6850>,\n <objectsDnD.Weapon at 0x7f6c212b2e50>,\n <objectsDnD.Weapon at 0x7f6c212b1b90>,\n <objectsDnD.Weapon at 0x7f6c212b0ed0>,\n <objectsDnD.Weapon at 0x7f6c212b1f10>,\n <objectsDnD.Weapon at 0x7f6c212b21d0>,\n <objectsDnD.Weapon at 0x7f6c212b3ad0>,\n <objectsDnD.Weapon at 0x7f6c212b2590>,\n <objectsDnD.Weapon at 0x7f6c212b3fd0>,\n <objectsDnD.Weapon at 0x7f6c212b4310>,\n <objectsDnD.Weapon at 0x7f6c212b6a90>,\n <objectsDnD.Weapon at 0x7f6c212b2010>,\n <objectsDnD.Weapon at 0x7f6c212b6950>,\n <objectsDnD.Weapon at 0x7f6c212b3710>,\n <objectsDnD.Weapon at 0x7f6c212b4390>,\n <objectsDnD.Weapon at 0x7f6c212b0a10>,\n <objectsDnD.Weapon at 0x7f6c212b3e90>,\n <objectsDnD.Weapon at 0x7f6c212b7790>,\n <objectsDnD.Weapon at 0x7f6c212b4790>,\n <objectsDnD.Weapon at 0x7f6c212b0190>,\n <objectsDnD.Weapon at 0x7f6c212b4b10>,\n <objectsDnD.Weapon at 0x7f6c212b4e50>,\n <objectsDnD.Weapon at 0x7f6c212b7050>,\n <objectsDnD.Weapon at 0x7f6c212b5690>,\n <objectsDnD.Weapon at 0x7f6c212b0350>,\n <objectsDnD.Weapon at 0x7f6c212b58d0>,\n <objectsDnD.Weapon at 0x7f6c212b5050>,\n <objectsDnD.Weapon at 0x7f6c212b1410>,\n <objectsDnD.Weapon at 0x7f6c212b6150>,\n <objectsDnD.Weapon at 0x7f6c212b0810>,\n <objectsDnD.Weapon at 0x7f6c212b1590>,\n <objectsDnD.Weapon at 0x7f6c212b0610>,\n <objectsDnD.Weapon at 0x7f6c212b6550>,\n <objectsDnD.Weapon at 0x7f6c212b6a10>,\n <objectsDnD.Weapon at 0x7f6c212b6cd0>,\n <objectsDnD.Weapon at 0x7f6c212b6350>]"
     },
     "execution_count": 187,
     "metadata": {},
     "output_type": "execute_result"
    }
   ],
   "source": [
    "t= Reading.WeaponReader(\"./txtFiles/allWeapons/baseWeapons.txt\")\n",
    "t.get_all_weapons()"
   ],
   "metadata": {
    "collapsed": false,
    "ExecuteTime": {
     "end_time": "2024-03-07T14:08:11.969608969Z",
     "start_time": "2024-03-07T14:08:11.825668767Z"
    }
   }
  },
  {
   "cell_type": "code",
   "execution_count": 338,
   "outputs": [
    {
     "name": "stdout",
     "output_type": "stream",
     "text": [
      "1d4\n",
      "1\n"
     ]
    }
   ],
   "source": [
    "dice = DT.Dice(1,4)\n",
    "print(dice)\n",
    "print(dice.roll_dice())\n",
    "\n"
   ],
   "metadata": {
    "collapsed": false,
    "ExecuteTime": {
     "end_time": "2024-03-02T22:38:13.919329188Z",
     "start_time": "2024-03-02T22:38:13.910745979Z"
    }
   }
  },
  {
   "cell_type": "code",
   "execution_count": 112,
   "outputs": [
    {
     "data": {
      "text/plain": "1"
     },
     "execution_count": 112,
     "metadata": {},
     "output_type": "execute_result"
    }
   ],
   "source": [
    "int(np.random.rand()*3 + 1)"
   ],
   "metadata": {
    "collapsed": false,
    "ExecuteTime": {
     "end_time": "2024-03-02T22:26:02.013875009Z",
     "start_time": "2024-03-02T22:26:02.000824674Z"
    }
   }
  },
  {
   "cell_type": "code",
   "execution_count": 327,
   "outputs": [
    {
     "name": "stdout",
     "output_type": "stream",
     "text": [
      "False\n"
     ]
    }
   ],
   "source": [
    "one = 1\n",
    "print(not isinstance(1,int))\n",
    "# print(type(one) == type(1))"
   ],
   "metadata": {
    "collapsed": false,
    "ExecuteTime": {
     "end_time": "2024-03-02T22:36:01.993903851Z",
     "start_time": "2024-03-02T22:36:01.984540568Z"
    }
   }
  },
  {
   "cell_type": "code",
   "execution_count": 398,
   "outputs": [
    {
     "data": {
      "text/plain": "['Finesse', 'Thrown(20/60)']"
     },
     "execution_count": 398,
     "metadata": {},
     "output_type": "execute_result"
    }
   ],
   "source": [
    "\n"
   ],
   "metadata": {
    "collapsed": false,
    "ExecuteTime": {
     "end_time": "2024-03-02T23:08:47.349926708Z",
     "start_time": "2024-03-02T23:08:47.339046850Z"
    }
   }
  },
  {
   "cell_type": "code",
   "execution_count": 184,
   "outputs": [
    {
     "name": "stdout",
     "output_type": "stream",
     "text": [
      "dagger\n",
      "longsword\n",
      "light_crossbow\n",
      "apple\n",
      "pear\n",
      "hammer\n"
     ]
    }
   ],
   "source": [
    "\n",
    "weaponClass = \"Simple\"\n",
    "dagger = \"Dagger\t\t5_cp \t1d4 \tpiercing \t19 \tFinesse-Thrown(20/60)\"\n",
    "sword = \"longsword \t\t5_cp \t2d6 \tslashing \t14 \tFinesse-Thrown(20/60)\"\n",
    "crossbow = \"Light_Crossbow \t\t5_cp \t2d6 \tslashing \t1 \tFinesse-Thrown(20/60)\"\n",
    "sword = Reading.parseWeaponLine(\"Simple\",sword)\n",
    "dagger = Reading.parseWeaponLine(\"Martial\",dagger)\n",
    "crossbow = Reading.parseWeaponLine(\"Simple\",crossbow)\n",
    "apple = objectsDnD.Item(\"Apple\",200,category=\"food\")\n",
    "pear = objectsDnD.Item(\"Pear\",200,category=\"food\")\n",
    "hammer = objectsDnD.Item(\"Hammer\",200, category=\"tool\")\n",
    "\n",
    "inventory = charManagers.Inventory()\n",
    "inventory.add_item(sword.get_key_name(), sword, 2)\n",
    "inventory.add_item(dagger.get_key_name(), dagger, 1)\n",
    "inventory.add_item(crossbow.get_key_name(), crossbow, 3)\n",
    "inventory.add_item(apple.get_key_name(),apple,30)\n",
    "inventory.add_item(pear.get_key_name(),pear,30)\n",
    "inventory.add_item(hammer.get_key_name(),hammer,30)\n",
    "\n",
    "listI = inventory.get_list_by(\"type\")\n",
    "for i in range(len(listI)):\n",
    "    print(listI[i])\n",
    "\n"
   ],
   "metadata": {
    "collapsed": false,
    "ExecuteTime": {
     "end_time": "2024-03-07T04:30:12.432245580Z",
     "start_time": "2024-03-07T04:30:12.421225348Z"
    }
   }
  }
 ],
 "metadata": {
  "kernelspec": {
   "display_name": "usrp2023_local",
   "language": "python",
   "name": "python3"
  },
  "language_info": {
   "codemirror_mode": {
    "name": "ipython",
    "version": 3
   },
   "file_extension": ".py",
   "mimetype": "text/x-python",
   "name": "python",
   "nbconvert_exporter": "python",
   "pygments_lexer": "ipython3",
   "version": "3.11.3"
  },
  "orig_nbformat": 4
 },
 "nbformat": 4,
 "nbformat_minor": 2
}
