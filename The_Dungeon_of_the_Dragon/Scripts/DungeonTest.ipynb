{
 "cells": [
  {
   "cell_type": "code",
   "execution_count": 1,
   "metadata": {
    "ExecuteTime": {
     "end_time": "2024-03-08T19:00:27.495747974Z",
     "start_time": "2024-03-08T19:00:27.456116859Z"
    }
   },
   "outputs": [],
   "source": [
    "import numpy as np\n",
    "import ruleTools\n",
    "import objectsDnD \n",
    "from fractions import Fraction\n",
    "import Reading\n",
    "import objectHelperTools as oHT\n",
    "import charManagers\n",
    "import EZPaths\n",
    "import re\n",
    "\n",
    "%load_ext autoreload\n",
    "%autoreload 2"
   ]
  },
  {
   "cell_type": "code",
   "execution_count": 10,
   "outputs": [
    {
     "name": "stdout",
     "output_type": "stream",
     "text": [
      "________________________________________________________________________\n",
      "Item Type | Food\n",
      "Name      | Apple\n",
      "Cost      | 0 gp\n",
      "Weight    | 200 lbs\n",
      "Amount    | 30x\n",
      "________________________________________________________________________\n",
      "\n",
      "________________________________________________________________________\n",
      "Item Type | Food\n",
      "Name      | Pear\n",
      "Cost      | 0 gp\n",
      "Weight    | 200 lbs\n",
      "Amount    | 30x\n",
      "________________________________________________________________________\n",
      "\n",
      "________________________________________________________________________\n",
      "Item Type | Tool\n",
      "Name      | Hammer\n",
      "Cost      | 0 gp\n",
      "Weight    | 200 lbs\n",
      "Amount    | 30x\n",
      "________________________________________________________________________\n",
      "\n",
      "________________________________________________________________________\n",
      "Item Type  | Weapon\n",
      "Class      | Simple\n",
      "Name       | longsword\n",
      "Cost       | 5.0 cp\n",
      "Damage     | 2d6 slashing\n",
      "Weight     | 14.0 lbs\n",
      "Properties | Finesse, Thrown(20/60)\n",
      "________________________________________________________________________\n",
      "\n",
      "________________________________________________________________________\n",
      "Item Type  | Weapon\n",
      "Class      | Martial\n",
      "Name       | Dagger\n",
      "Cost       | 5.0 cp\n",
      "Damage     | 1d4 piercing\n",
      "Weight     | 19.0 lbs\n",
      "Properties | Finesse, Thrown(20/60)\n",
      "________________________________________________________________________\n",
      "\n",
      "________________________________________________________________________\n",
      "Item Type  | Weapon\n",
      "Class      | Simple\n",
      "Name       | Light Crossbow\n",
      "Cost       | 5.0 cp\n",
      "Damage     | 2d6 slashing\n",
      "Weight     | 1.0 lbs\n",
      "Properties | Finesse, Thrown(20/60)\n",
      "________________________________________________________________________\n",
      "\n",
      "________________________________________________________________________\n",
      "Item Type | Food\n",
      "Name      | Apple\n",
      "Cost      | 0 gp\n",
      "Weight    | 200 lbs\n",
      "Amount    | 30x\n",
      "________________________________________________________________________\n"
     ]
    }
   ],
   "source": [
    "testStat = DT.Stat('Strength')\n",
    "testStat.alter_contrib_base(\"base\", 13)\n",
    "testStat.alter_contrib_base('teifling race', 4)\n",
    "testStat.alter_contrib_base(\"mockery\", -2)\n",
    "testStat.alter_contrib_bonus(\"guidance\", -4)\n",
    "print(testStat)\n",
    "# testStat.remove(\"mockery\")\n",
    "# print(testStat)"
   ],
   "metadata": {
    "collapsed": false,
    "ExecuteTime": {
     "end_time": "2024-03-08T20:03:03.943797271Z",
     "start_time": "2024-03-08T20:03:03.377835288Z"
    }
   }
  },
  {
   "cell_type": "code",
   "execution_count": 17,
   "outputs": [
    {
     "name": "stdout",
     "output_type": "stream",
     "text": [
      "________________________________________________________________________\n",
      "Item Type  | Weapon\n",
      "Class      | Simple\n",
      "Name       | Light Crossbow\n",
      "Cost       | 5.0 cp\n",
      "Damage     | 2d6 slashing\n",
      "Weight     | 1.0 lbs\n",
      "Properties | Finesse, Thrown(20/60)\n",
      "________________________________________________________________________\n"
     ]
    }
   ],
   "source": [
    "print(testStat.get_type() + '\\n Base: ' + str(testStat.get_total_base()) + '\\n Modifer: ' + str(testStat.get_total_bonus()))\n",
    "testStat.remove_bonus(\"guidance\")\n",
    "print(testStat.get_type() + '\\n Base: ' + str(testStat.get_total_base()) + '\\n Modifer: ' + str(testStat.get_total_bonus()))"
   ],
   "metadata": {
    "collapsed": false,
    "ExecuteTime": {
     "end_time": "2024-03-08T20:05:04.933456168Z",
     "start_time": "2024-03-08T20:05:04.918758737Z"
    }
   }
  },
  {
   "cell_type": "code",
   "execution_count": 26,
   "outputs": [
    {
     "name": "stdout",
     "output_type": "stream",
     "text": [
      "2\n",
      "1\n"
     ]
    }
   ],
   "source": [
    "testBonus = DT.StatBonus(testStat)\n",
    "testBonus.add('proficiency', 2)\n",
    "print(testBonus)\n",
    "testBonus.remove('proficiency')\n",
    "print(testBonus)\n"
   ],
   "metadata": {
    "collapsed": false,
    "ExecuteTime": {
     "end_time": "2024-03-08T21:00:39.635467365Z",
     "start_time": "2024-03-08T21:00:39.622048824Z"
    }
   }
  },
  {
   "cell_type": "code",
   "execution_count": 34,
   "outputs": [
    {
     "name": "stdout",
     "output_type": "stream",
     "text": [
      "0\n",
      "1\n",
      "2\n",
      "3\n",
      "4\n",
      "5\n",
      "6\n",
      "7\n"
     ]
    }
   ],
   "source": [
    "test = DT.RPValue('Expr Points', True)\n",
    "test.add(3000)\n",
    "print(test)\n",
    "test.subtract(5000)\n",
    "print(test)"
   ],
   "metadata": {
    "collapsed": false,
    "ExecuteTime": {
     "end_time": "2024-03-08T21:12:44.426373562Z",
     "start_time": "2024-03-08T21:12:44.415980819Z"
    }
   }
  },
  {
   "cell_type": "code",
   "execution_count": 14,
   "outputs": [
    {
     "name": "stdout",
     "output_type": "stream",
     "text": [
      "0\n",
      "2\n",
      "1\n"
     ]
    }
   ],
   "source": [
    "t = DT.HitDice()\n",
    "print(t.get_total_hd())\n",
    "t.set_d_type(4)\n",
    "t.set_total_hd(2)\n",
    "t.add_hd(2)\n",
    "print(t.get_current_hd())\n",
    "t.subtract_hd()\n",
    "print(t.get_current_hd())"
   ],
   "metadata": {
    "collapsed": false,
    "ExecuteTime": {
     "end_time": "2024-02-12T23:09:46.102439689Z",
     "start_time": "2024-02-12T23:09:46.084220244Z"
    }
   }
  },
  {
   "cell_type": "code",
   "execution_count": 18,
   "outputs": [
    {
     "data": {
      "text/plain": "2"
     },
     "execution_count": 18,
     "metadata": {},
     "output_type": "execute_result"
    }
   ],
   "source": [
    "ones = np.array([1,1,1])\n",
    "false = [False, True, True]\n",
    "ones[false].sum()"
   ],
   "metadata": {
    "collapsed": false,
    "ExecuteTime": {
     "end_time": "2024-02-13T01:27:32.229375122Z",
     "start_time": "2024-02-13T01:27:32.182748258Z"
    }
   }
  },
  {
   "cell_type": "code",
   "execution_count": 195,
   "outputs": [
    {
     "data": {
      "text/plain": "'Weapon'"
     },
     "execution_count": 195,
     "metadata": {},
     "output_type": "execute_result"
    }
   ],
   "source": [
    "t= Reading.WeaponReader(EZPaths.Weapon_Path)\n",
    "t.get_all_weapons()[0].get_type()"
   ],
   "metadata": {
    "collapsed": false,
    "ExecuteTime": {
     "end_time": "2024-03-07T14:58:21.109065745Z",
     "start_time": "2024-03-07T14:58:21.087319961Z"
    }
   }
  },
  {
   "cell_type": "code",
   "execution_count": 338,
   "outputs": [
    {
     "name": "stdout",
     "output_type": "stream",
     "text": [
      "1d4\n",
      "1\n"
     ]
    }
   ],
   "source": [
    "dice = DT.Dice(1,4)\n",
    "print(dice)\n",
    "print(dice.roll_dice())\n",
    "\n"
   ],
   "metadata": {
    "collapsed": false,
    "ExecuteTime": {
     "end_time": "2024-03-02T22:38:13.919329188Z",
     "start_time": "2024-03-02T22:38:13.910745979Z"
    }
   }
  },
  {
   "cell_type": "code",
   "execution_count": 112,
   "outputs": [
    {
     "data": {
      "text/plain": "1"
     },
     "execution_count": 112,
     "metadata": {},
     "output_type": "execute_result"
    }
   ],
   "source": [
    "int(np.random.rand()*3 + 1)"
   ],
   "metadata": {
    "collapsed": false,
    "ExecuteTime": {
     "end_time": "2024-03-02T22:26:02.013875009Z",
     "start_time": "2024-03-02T22:26:02.000824674Z"
    }
   }
  },
  {
   "cell_type": "code",
   "execution_count": 327,
   "outputs": [
    {
     "name": "stdout",
     "output_type": "stream",
     "text": [
      "False\n"
     ]
    }
   ],
   "source": [
    "one = 1\n",
    "print(not isinstance(1,int))\n",
    "# print(type(one) == type(1))"
   ],
   "metadata": {
    "collapsed": false,
    "ExecuteTime": {
     "end_time": "2024-03-02T22:36:01.993903851Z",
     "start_time": "2024-03-02T22:36:01.984540568Z"
    }
   }
  },
  {
   "cell_type": "code",
   "execution_count": 398,
   "outputs": [
    {
     "data": {
      "text/plain": "['Finesse', 'Thrown(20/60)']"
     },
     "execution_count": 398,
     "metadata": {},
     "output_type": "execute_result"
    }
   ],
   "source": [
    "\n"
   ],
   "metadata": {
    "collapsed": false,
    "ExecuteTime": {
     "end_time": "2024-03-02T23:08:47.349926708Z",
     "start_time": "2024-03-02T23:08:47.339046850Z"
    }
   }
  },
  {
   "cell_type": "code",
   "execution_count": 184,
   "outputs": [
    {
     "name": "stdout",
     "output_type": "stream",
     "text": [
      "dagger\n",
      "longsword\n",
      "light_crossbow\n",
      "apple\n",
      "pear\n",
      "hammer\n"
     ]
    }
   ],
   "source": [
    "\n",
    "weaponClass = \"Simple\"\n",
    "dagger = \"Dagger\t\t5_cp \t1d4 \tpiercing \t19 \tFinesse-Thrown(20/60)\"\n",
    "sword = \"longsword \t\t5_cp \t2d6 \tslashing \t14 \tFinesse-Thrown(20/60)\"\n",
    "crossbow = \"Light_Crossbow \t\t5_cp \t2d6 \tslashing \t1 \tFinesse-Thrown(20/60)\"\n",
    "sword = Reading.parseWeaponLine(\"Simple\",sword)\n",
    "dagger = Reading.parseWeaponLine(\"Martial\",dagger)\n",
    "crossbow = Reading.parseWeaponLine(\"Simple\",crossbow)\n",
    "apple = objectsDnD.Item(\"Apple\",200,category=\"food\")\n",
    "pear = objectsDnD.Item(\"Pear\",200,category=\"food\")\n",
    "hammer = objectsDnD.Item(\"Hammer\",200, category=\"tool\")\n",
    "\n",
    "inventory = charManagers.Inventory()\n",
    "inventory.add_item(sword.get_key_name(), sword, 2)\n",
    "inventory.add_item(dagger.get_key_name(), dagger, 1)\n",
    "inventory.add_item(crossbow.get_key_name(), crossbow, 3)\n",
    "inventory.add_item(apple.get_key_name(),apple,30)\n",
    "inventory.add_item(pear.get_key_name(),pear,30)\n",
    "inventory.add_item(hammer.get_key_name(),hammer,30)\n",
    "\n",
    "listI = inventory.get_list_by(\"type\")\n",
    "for i in range(len(listI)):\n",
    "    print(listI[i])\n",
    "\n"
   ],
   "metadata": {
    "collapsed": false,
    "ExecuteTime": {
     "end_time": "2024-03-07T04:30:12.432245580Z",
     "start_time": "2024-03-07T04:30:12.421225348Z"
    }
   }
  }
 ],
 "metadata": {
  "kernelspec": {
   "display_name": "usrp2023_local",
   "language": "python",
   "name": "python3"
  },
  "language_info": {
   "codemirror_mode": {
    "name": "ipython",
    "version": 3
   },
   "file_extension": ".py",
   "mimetype": "text/x-python",
   "name": "python",
   "nbconvert_exporter": "python",
   "pygments_lexer": "ipython3",
   "version": "3.11.3"
  },
  "orig_nbformat": 4
 },
 "nbformat": 4,
 "nbformat_minor": 2
}
